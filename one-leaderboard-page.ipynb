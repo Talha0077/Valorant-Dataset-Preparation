{
 "cells": [
  {
   "cell_type": "markdown",
   "source": [
    "## Looping Over One Leaderboard Webpage Containing 100 Players"
   ],
   "metadata": {
    "collapsed": false,
    "pycharm": {
     "name": "#%% md\n"
    }
   }
  },
  {
   "cell_type": "code",
   "execution_count": null,
   "metadata": {
    "collapsed": true,
    "pycharm": {
     "name": "#%%\n"
    }
   },
   "outputs": [],
   "source": [
    "from bs4 import BeautifulSoup\n",
    "import pandas as pd\n",
    "import requests"
   ]
  },
  {
   "cell_type": "code",
   "execution_count": null,
   "outputs": [],
   "source": [
    "def update_final_lists(agents, weapons, best_maps, worst_map):\n",
    "    top_agents_list_final.append(agents)\n",
    "    top_weapons_list_final.append(weapons)\n",
    "    top_three_player_maps_final.append(best_maps)\n",
    "    worst_player_map_final.append(worst_map)"
   ],
   "metadata": {
    "collapsed": false,
    "pycharm": {
     "name": "#%%\n"
    }
   }
  },
  {
   "cell_type": "code",
   "execution_count": null,
   "outputs": [],
   "source": [
    "list_of_agents = ['Astra', 'Breach', 'Brimstone', 'Chamber', 'Cypher', 'Jett', 'Fade', 'KAY/O', 'Killjoy', 'Neon',\n",
    "                  'Omen', 'Phoenix', 'Raze', 'Reyna', 'Sage', 'Skye', 'Sova', 'Viper', 'Yoru']\n",
    "list_of_maps = ['Haven', 'Icebox', 'Breeze', 'Fracture', 'Ascent', 'Bind', 'Split', 'Pearl']"
   ],
   "metadata": {
    "collapsed": false,
    "pycharm": {
     "name": "#%%\n"
    }
   }
  },
  {
   "cell_type": "code",
   "execution_count": null,
   "outputs": [],
   "source": [
    "main_page = requests.get(\"https://tracker.gg/valorant/leaderboards/ranked/all/default?page=1&region=global\")"
   ],
   "metadata": {
    "collapsed": false,
    "pycharm": {
     "name": "#%%\n"
    }
   }
  },
  {
   "cell_type": "code",
   "execution_count": null,
   "outputs": [],
   "source": [
    "main_page_soup = BeautifulSoup(main_page.content, 'html.parser')"
   ],
   "metadata": {
    "collapsed": false,
    "pycharm": {
     "name": "#%%\n"
    }
   }
  },
  {
   "cell_type": "code",
   "execution_count": null,
   "outputs": [],
   "source": [
    "leaderboard_table = main_page_soup.find(\"table\", {\"class\": \"trn-table\"})"
   ],
   "metadata": {
    "collapsed": false,
    "pycharm": {
     "name": "#%%\n"
    }
   }
  },
  {
   "cell_type": "code",
   "execution_count": null,
   "outputs": [],
   "source": [
    "leaderboard_entries = leaderboard_table.find(\"tbody\")"
   ],
   "metadata": {
    "collapsed": false,
    "pycharm": {
     "name": "#%%\n"
    }
   }
  },
  {
   "cell_type": "code",
   "execution_count": null,
   "outputs": [],
   "source": [
    "player_list = leaderboard_entries.find_all(\"td\", {\"class\": \"username\"})"
   ],
   "metadata": {
    "collapsed": false,
    "pycharm": {
     "name": "#%%\n"
    }
   }
  },
  {
   "cell_type": "code",
   "execution_count": null,
   "outputs": [],
   "source": [
    "player_names = []\n",
    "for player in player_list:\n",
    "    player_names.append(player.find(\"span\", {\"class\": \"trn-ign__username\"}).text.strip())"
   ],
   "metadata": {
    "collapsed": false,
    "pycharm": {
     "name": "#%%\n"
    }
   }
  },
  {
   "cell_type": "code",
   "execution_count": null,
   "outputs": [],
   "source": [
    "player_profile_links = []\n",
    "for player in player_list:\n",
    "    a_tag = player.find(\"a\")\n",
    "    link = \"https://tracker.gg\" + a_tag.get('href') + \"/overview?season=all\"\n",
    "    player_profile_links.append(link)"
   ],
   "metadata": {
    "collapsed": false,
    "pycharm": {
     "name": "#%%\n"
    }
   }
  },
  {
   "cell_type": "code",
   "execution_count": null,
   "outputs": [],
   "source": [
    "top_agents_list_final = []\n",
    "top_weapons_list_final = []\n",
    "top_three_player_maps_final = []\n",
    "worst_player_map_final = []\n",
    "rerun_iteration = True\n",
    "for i, player_profile_link in enumerate(player_profile_links):\n",
    "    rerun_iteration = True\n",
    "    top_agents_list = []\n",
    "    top_weapons_list = []\n",
    "    top_three_player_maps = []\n",
    "    worst_player_map = []\n",
    "    while rerun_iteration:\n",
    "        try:\n",
    "            print(\"Gathering data for player\", player_profile_link)\n",
    "            player_profile_page = requests.get(player_profile_link)\n",
    "\n",
    "            player_profile_page_soup = BeautifulSoup(player_profile_page.content, 'html.parser')\n",
    "\n",
    "            top_agents = player_profile_page_soup.find_all(\"div\", {\"class\": \"info\"})\n",
    "\n",
    "            for agent in top_agents:\n",
    "                if agent.text.strip() in list_of_agents:\n",
    "                    top_agents_list.append(agent.text.strip())\n",
    "\n",
    "            top_weapons = player_profile_page_soup.find_all(\"div\", {\"class\": \"weapon__name\"})\n",
    "\n",
    "            for weapon in top_weapons:\n",
    "                top_weapons_list.append(weapon.text.strip())\n",
    "\n",
    "            top_maps_link = player_profile_page_soup.find(\"a\", {\"class\": \"trn-button trn-button--block\"})\n",
    "\n",
    "            player_maps_link = \"https://tracker.gg\" + top_maps_link.get('href')\n",
    "\n",
    "            player_maps_page = requests.get(player_maps_link)\n",
    "\n",
    "            player_maps_page_soup = BeautifulSoup(player_maps_page.content, 'html.parser')\n",
    "\n",
    "            players_maps = player_maps_page_soup.find_all('div', {\"class\": \"info\"})\n",
    "\n",
    "            all_maps_list = []\n",
    "            for map in players_maps:\n",
    "                if map.text.strip() in list_of_maps:\n",
    "                    all_maps_list.append(map.text.strip())\n",
    "\n",
    "            top_three_player_maps = (all_maps_list[0:3])\n",
    "            worst_player_map = (all_maps_list[-1])\n",
    "            update_final_lists(top_agents_list, top_weapons_list, top_three_player_maps, worst_player_map)\n",
    "            rerun_iteration = False\n",
    "        except:\n",
    "            print(\"Error occurred. Retrying...\")\n",
    "            top_agents_list = []\n",
    "            top_weapons_list = []\n",
    "            top_three_player_maps = []\n",
    "            worst_player_map = []\n",
    "            rerun_iteration = True\n",
    "top_agents_list_final = np.array(top_agents_list_final)\n",
    "top_weapons_list_final = np.array(top_weapons_list_final)\n",
    "top_three_player_maps_final = np.array(top_three_player_maps_final)\n",
    "worst_player_map_final = np.array(worst_player_map_final)"
   ],
   "metadata": {
    "collapsed": false,
    "pycharm": {
     "name": "#%%\n"
    }
   }
  },
  {
   "cell_type": "code",
   "execution_count": null,
   "outputs": [],
   "source": [
    "final_data_frame = pd.DataFrame()"
   ],
   "metadata": {
    "collapsed": false,
    "pycharm": {
     "name": "#%%\n"
    }
   }
  },
  {
   "cell_type": "code",
   "execution_count": null,
   "outputs": [],
   "source": [
    "final_data_frame['playerName'] = player_names"
   ],
   "metadata": {
    "collapsed": false,
    "pycharm": {
     "name": "#%%\n"
    }
   }
  },
  {
   "cell_type": "code",
   "execution_count": null,
   "outputs": [],
   "source": [
    "final_data_frame['firstAgent'] = top_agents_list_final[:, 0]\n",
    "final_data_frame['secondAgent'] = top_agents_list_final[:, 1]\n",
    "final_data_frame['thirdAgent'] = top_agents_list_final[:, 2]"
   ],
   "metadata": {
    "collapsed": false,
    "pycharm": {
     "name": "#%%\n"
    }
   }
  },
  {
   "cell_type": "code",
   "execution_count": null,
   "outputs": [],
   "source": [
    "final_data_frame['firstWeapon'] = top_weapons_list_final[:, 0]\n",
    "final_data_frame['secondWeapon'] = top_weapons_list_final[:, 1]\n",
    "final_data_frame['thirdWeapon'] = top_weapons_list_final[:, 2]"
   ],
   "metadata": {
    "collapsed": false,
    "pycharm": {
     "name": "#%%\n"
    }
   }
  },
  {
   "cell_type": "code",
   "execution_count": null,
   "outputs": [],
   "source": [
    "final_data_frame['bestMap'] = top_three_player_maps_final[:, 0]\n",
    "final_data_frame['secondBestMap'] = top_three_player_maps_final[:, 1]\n",
    "final_data_frame['thirdBestMap'] = top_three_player_maps_final[:, 2]\n",
    "final_data_frame['worstMap'] = worst_player_map_final\n",
    "final_data_frame"
   ],
   "metadata": {
    "collapsed": false,
    "pycharm": {
     "name": "#%%\n"
    }
   }
  },
  {
   "cell_type": "code",
   "execution_count": null,
   "outputs": [],
   "source": [
    "final_data_frame.to_csv(\"Valorant-Data-Analysis.csv\", index=False)"
   ],
   "metadata": {
    "collapsed": false,
    "pycharm": {
     "name": "#%%\n"
    }
   }
  }
 ],
 "metadata": {
  "kernelspec": {
   "display_name": "Python 3",
   "language": "python",
   "name": "python3"
  },
  "language_info": {
   "codemirror_mode": {
    "name": "ipython",
    "version": 2
   },
   "file_extension": ".py",
   "mimetype": "text/x-python",
   "name": "python",
   "nbconvert_exporter": "python",
   "pygments_lexer": "ipython2",
   "version": "2.7.6"
  }
 },
 "nbformat": 4,
 "nbformat_minor": 0
}