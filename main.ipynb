{
 "cells": [
  {
   "cell_type": "markdown",
   "source": [
    "# GETTING DATA FOR ONE PLAYER"
   ],
   "metadata": {
    "collapsed": false,
    "pycharm": {
     "name": "#%% md\n"
    }
   }
  },
  {
   "cell_type": "code",
   "execution_count": 360,
   "outputs": [],
   "source": [
    "from bs4 import BeautifulSoup\n",
    "import pandas as pd\n",
    "import requests\n",
    "import numpy as np"
   ],
   "metadata": {
    "collapsed": false,
    "pycharm": {
     "name": "#%%\n"
    }
   }
  },
  {
   "cell_type": "code",
   "execution_count": 361,
   "outputs": [],
   "source": [
    "list_of_agents = ['Astra', 'Breach', 'Brimstone', 'Chamber', 'Cypher', 'Jett', 'Fade', 'KAY/O', 'Killjoy', 'Neon', 'Omen', 'Phoenix', 'Raze', 'Reyna', 'Sage', 'Skye', 'Sova', 'Viper', 'Yoru']\n",
    "list_of_maps = ['Haven', 'Icebox', 'Breeze', 'Fracture', 'Ascent', 'Bind', 'Split', 'Pearl']"
   ],
   "metadata": {
    "collapsed": false,
    "pycharm": {
     "name": "#%%\n"
    }
   }
  },
  {
   "cell_type": "code",
   "execution_count": 362,
   "outputs": [],
   "source": [
    "main_page = requests.get(\"https://tracker.gg/valorant/leaderboards/ranked/all/default?page=1&region=global\")"
   ],
   "metadata": {
    "collapsed": false,
    "pycharm": {
     "name": "#%%\n"
    }
   }
  },
  {
   "cell_type": "code",
   "execution_count": 363,
   "outputs": [
    {
     "data": {
      "text/plain": "<!DOCTYPE html>\n\n<!--[if lt IE 7]> <html class=\"no-js ie6 oldie\" lang=\"en-US\"> <![endif]-->\n<!--[if IE 7]>    <html class=\"no-js ie7 oldie\" lang=\"en-US\"> <![endif]-->\n<!--[if IE 8]>    <html class=\"no-js ie8 oldie\" lang=\"en-US\"> <![endif]-->\n<!--[if gt IE 8]><!--> <html class=\"no-js\" lang=\"en-US\"> <!--<![endif]-->\n<head>\n<title>Please Wait... | Cloudflare</title>\n<meta charset=\"utf-8\"/>\n<meta content=\"text/html; charset=utf-8\" http-equiv=\"Content-Type\"/>\n<meta content=\"IE=Edge\" http-equiv=\"X-UA-Compatible\"/>\n<meta content=\"noindex, nofollow\" name=\"robots\"/>\n<meta content=\"width=device-width,initial-scale=1\" name=\"viewport\"/>\n<link href=\"/cdn-cgi/styles/cf.errors.css\" id=\"cf_styles-css\" rel=\"stylesheet\"/>\n<!--[if lt IE 9]><link rel=\"stylesheet\" id='cf_styles-ie-css' href=\"/cdn-cgi/styles/cf.errors.ie.css\" /><![endif]-->\n<style>body{margin:0;padding:0}</style>\n<!--[if gte IE 10]><!-->\n<script>\n  if (!navigator.cookieEnabled) {\n    window.addEventListener('DOMContentLoaded', function () {\n      var cookieEl = document.getElementById('cookie-alert');\n      cookieEl.style.display = 'block';\n    })\n  }\n</script>\n<!--<![endif]-->\n<script>\n    //<![CDATA[\n    (function(){\n      window._cf_chl_opt={\n        cvId: \"2\",\n        cType: \"managed\",\n        cNounce: \"18073\",\n        cRay: \"722c2ea05e74d3e7\",\n        cHash: \"e12d08ed7e78d30\",\n        cUPMDTk: \"\\/valorant\\/leaderboards\\/ranked\\/all\\/default?page=1&region=global&__cf_chl_tk=e2O3nmpWzyZs_lsAx_E5_uHCT5bARVGUw3O6T5_Fnns-1656479703-0-gaNycGzNBz0\",\n        cFPWv: \"b\",\n        cTTimeMs: \"1000\",\n        cLt: \"n\",\n        cRq: {\n          ru: \"aHR0cHM6Ly90cmFja2VyLmdnL3ZhbG9yYW50L2xlYWRlcmJvYXJkcy9yYW5rZWQvYWxsL2RlZmF1bHQ/cGFnZT0xJnJlZ2lvbj1nbG9iYWw=\",\n          ra: \"cHl0aG9uLXJlcXVlc3RzLzIuMjcuMQ==\",\n          rm: \"R0VU\",\n          d: \"1eRsIf7dRsQbADh2xClFcv4zNELRdTI6YccZlddOUZnZd9NU74cXPYZjUEkL++zALsC/MMz49i2vyQ+9WTeWdPha8LdUw6gZWD18pS9BDWKoC9U1RN156l3Si8fJ1GL1X1TgM7J+IcLgEPXXtr7SkwbfchlI2bwdCpUzADd1Tjvd+juy+cvBzpp21PkQEwBDvtTy8KAQWBuNL2VRMovfsncvLybMUMnL1kV8WJCIEnvqfcKdYrQUZNh7JW8ThutrrOufqot6q0/tvzKD6bA15U9NxsIXBmTBSfeKGg9/9by5DMosJzbk5ahDIiuS5XziAz4z0YNSvuxwL7m2jLwGYilXSnnvU+5YlD9dTKaYVyxIfBppUUxO0m1AQhNKrOhIeLi0Bz4VYj6OBeJi8l6dNoVxV1JJUe59wf15OUJ54qhArALsTMw1kB08nwU5Xs9iO8j+6XF1ILIEzddJzNjuZTEo66tA7yuX4RMS1T5lOwSXekqMwe5fylb/KFC0JVyC91YxYz7d84js00SPuYh5LnVJ3lfUcV5yp65fC520UQQPjIMtpN0YkkIFNGPSde1YUl7RghIcoHzU9bN4MRi1F4Mh/zqd9AJi2xLTyZHSvIejdasBIuhFc7NTp3AMrRKjTSwe/VE4EjE1XxISQHv1iA==\",\n          t: \"MTY1NjQ3OTcwMy4xMDQwMDA=\",\n          m: \"nDeEcZYFxKpG/0Cr+xKv28GoHSv/lApsA3obVnxwubQ=\",\n          i1: \"1ZbAeKnvyGcsbZGiQ5E9mQ==\",\n          i2: \"/K+/G3phw44p2z2MZJniLQ==\",\n          zh: \"JswImELBS+oA7O9W8TpwXmOhYqG+ajvyW945qt+ih0c=\",\n          uh: \"JNy/u1JaDY8l68+s834y37Qd6UIzTJLBzCkJPX4t/ps=\",\n          hh: \"MPl9Y2tiZHeYAVImroVm0nV/GQb43u9Z8K0j7gCH5vY=\",\n        }\n      };\n    }());\n    //]]>\n    </script>\n<style>\n  #cf-wrapper #spinner {width:69px; margin:  auto;}\n  #cf-wrapper #cf-please-wait{text-align:center}\n  .attribution {margin-top: 32px;}\n  .bubbles { background-color: #f58220; width:20px; height: 20px; margin:2px; border-radius:100%; display:inline-block; }\n  #cf-wrapper #challenge-form { padding-top:25px; padding-bottom:25px; }\n  #cf-hcaptcha-container { text-align:center;}\n  #cf-hcaptcha-container iframe { display: inline-block;}\n  @keyframes fader     { 0% {opacity: 0.2;} 50% {opacity: 1.0;} 100% {opacity: 0.2;} }\n  #cf-wrapper #cf-bubbles { width:69px; }\n  @-webkit-keyframes fader { 0% {opacity: 0.2;} 50% {opacity: 1.0;} 100% {opacity: 0.2;} }\n  #cf-bubbles > .bubbles { animation: fader 1.6s infinite;}\n  #cf-bubbles > .bubbles:nth-child(2) { animation-delay: .2s;}\n  #cf-bubbles > .bubbles:nth-child(3) { animation-delay: .4s;}\n</style>\n</head>\n<body>\n<div id=\"cf-wrapper\">\n<div class=\"cf-alert cf-alert-error cf-cookie-error\" data-translate=\"enable_cookies\" id=\"cookie-alert\">Please enable cookies.</div>\n<div class=\"cf-error-details-wrapper\" id=\"cf-error-details\">\n<div class=\"cf-wrapper cf-header cf-error-overview\">\n<h1 data-translate=\"managed_challenge_headline\">Please wait...</h1>\n<h2 class=\"cf-subheadline\"><span data-translate=\"managed_checking_msg\">We are checking your browser...</span> tracker.gg</h2>\n</div>\n<div class=\"cf-section cf-highlight cf-captcha-container\">\n<div class=\"cf-wrapper\">\n<div class=\"cf-columns two\">\n<div class=\"cf-column\">\n<div class=\"cf-highlight-inverse cf-form-stacked\">\n<form action=\"/valorant/leaderboards/ranked/all/default?page=1&amp;region=global&amp;__cf_chl_f_tk=e2O3nmpWzyZs_lsAx_E5_uHCT5bARVGUw3O6T5_Fnns-1656479703-0-gaNycGzNBz0\" class=\"challenge-form managed-form\" enctype=\"application/x-www-form-urlencoded\" id=\"challenge-form\" method=\"POST\">\n<div id=\"cf-please-wait\">\n<div id=\"spinner\">\n<div id=\"cf-bubbles\">\n<div class=\"bubbles\"></div>\n<div class=\"bubbles\"></div>\n<div class=\"bubbles\"></div>\n</div>\n</div>\n<p data-translate=\"please_wait\" id=\"cf-spinner-please-wait\">Please stand by, while we are checking your browser...</p>\n<p data-translate=\"redirecting\" id=\"cf-spinner-redirecting\" style=\"display:none\">Redirecting...</p>\n</div>\n<input name=\"md\" type=\"hidden\" value=\"6aby6ZlpPtjhOa3Iw39fYvurTBjfnKyhh597jqCQe9E-1656479703-0-AcBuvAyTFXyQeJpdh60j4ExgbND75bFbWDE3fqRLDhSTm6zTnkGHIq_oOWH2MadpbwLoY8PFutgSO7Gkh7LjpCp_LPIFSFnLedim8UvBlPMcSOLOel5DAmaJEJCGuTBMBrCsyjnwc6yD7Y5NhfYgyavUaDh4XyP86_Kfb3CUTLWbT7Aixtg6O2vFxCatjhRbReoo01YX04bxJMjLdCoCZCN4xCvmwYESmzAQjRlLk2DPp5HuuRE23849UbTad2X8vyoG0PuvmKwp8-CtwkxaShETMt2vc6doJasnv7wO4Iczh0X3tI1vekTlGklqSN_JhWle1BDdOOD6-aFvC6wDga7eNSOBSbUjTaMRvk7WWHH2xUNflML2jI8Es0rJYi8inOtm7vRpXQAikYmoXmNYugcQm5_5ECWGX91kj8pprfHRmWv_NPk4EtijX0sRED8qX9pciBm248gxfLVGQGQtF9EbfyaeMYThsVN947g7aVJBZrzzpnCvCN1DimsqZ6FMonCnneBP-rlzc2wHxrYCoTKTrYVmai6atoFUU3Q5Zrr3fq_YQkZH5d1BzNDob-5IwEr0Cm7XwYi0eYBMmIvukZ9AB3daCNeIAwSwBdas_B3eUj-5q14wsoF_jVFzYxAz6JpO1j4XyXvDopFipead0A7wNfPcUegx5Yf_W61DkDeU4XvuXHKlW_gzMG7kh2EaiYu3y6FEY6UEVO85JCXQ_4UbOjnDJwebOv6ygb6BaUEyMurUgb_EU7IXV6xCYltFbCfw80hFKVibYS6PrOAqF8uzwegSFThxGB7QXNBEyCuYS-JuhZhz4hUNYX4fpRsB3nhtXKfGsDorEOtBvWJmwATBplUxGHexaDRuKBgCLw1ECumKft8IIyYboZ-EVBdtTBz9669mTcGlbghiFX4Z_S7kYikhY7Av4JRr64e1tFHiB4aycpxGw-dt1Q3y7MXLUVDmj3hFYAwQvgKnMj-fN_g\"/>\n<input name=\"r\" type=\"hidden\" value=\"J1aGoDwllTzaqGU2Zw2tsN5rQmV8NR892pxecVTPZxc-1656479703-0-AUuXzFicYu6mz/lKQQVJlcWRaVyWTxAaqx4ksWuSPFdXCei3R4+dIYqUmbBwQQBD5ngI1yWWCShGFCpoqzbljOmEPB7XCUPS2PKHwbFV9H2r3ZO+hXNEZhEAIIKlKL1O4LfSdfJj8GF12Xl31B0tNre90OU5/0uq7MYQBc54qqSAkTlhAwwyC/p6/lFSZJ3cj7FOELSoYnuQaCFHLabBTzySdQwwhcNctaW36q1SjuBnnXyHCUgbshbNlKArlPaBPzen8rNomuuIb+/Wz3j/vFBCAPddDy3x4aNlxEZpZQjFoR51AXgViVBNTXGqjkMgZ4U0AoiXiz3Hmz7d4ovO4OYR+bfOsYBRNnUTitPG43yYAoYKY/zn66ArLAF7bHRAL1IrduGAGfLrF56xVhQCUHXXimfG8QgBaGaoYrrqYkbsoixutpVC7vk4470QZFQFNK3nf7zaE10+rgKgMlFbgGEHSoOZihn5msdK73QGzLJPRxFcqj0vbk6Kdj4lAkh6E1kS0PHSKu+HjhIT/Qez83JoyWavpo0TALcksTDzTsCd2dnqQjN4PoXmCfpTTupknEGEVftcoh6ASEzsnaBRtHgObHN2noczSKB+iX+q5Ngst2A/RGfRughb34ICdqtmQyh2Sz8sEqERV71l27UxZ6s5SS14ifb417FvILlYZsPe+OKXhc1xjppondy0fcee7rhiih8mWN3umvvOORPtknovXwVarBj2HTCJrjlZLjQAhjvu6YzS8sMQOc3bZ52faIybbGtsEKrLdZ8yGneBbE4hdX1oRm9kayQtggXY7a4jrYuoliJIRGpfUzVnJugV5439VCY9PX0VgibritkTiYIwYIm10TmlGMIE3tR+NsW7IRQBU/0twK3yCYj7nli+wOEQ/niYr0mU1tsddBvR+yLfUKHvAk46l9bctRrwISbJhAjZwW3argcCbJzrXQmzolRiJCoNpN1eKssYKFfyKDbuFkhNKMpn0R7L+sjcD8MqHq55jkZpPT+FUmUKWQ8bJ55G0rVq/DQ/9nuGmJIWbUcdcSdK8mC+1JPSx0kiTlWjWBM3HVodjZcJCWibB8dHioBM3nEjPImZSXVzfal+eFziM4ry8HXQLAvzM1rjzQlXnsXzXscXbQ03QtV+MRYD/rhDchNsJmWUcY1WeUsbPxdkV0/sFgfN+nKbHDCOesGoRrQXc+8IU/cttU6yQGoa5hq09s6a0Q/KRoC047SZGmzW1Nnl3BciiJbrzsgc4b32LyJ2bkwBsEb259fWmwANkPamatFIk7eMnKRwplQzM0DeOsZRcHoNao1FaqDsU/KwLRA3ubjJ2jNec+kcf2J5MCxrxjA7fMwLnOtUVUF82CggnDGGzoJVFYsux6GTHV3Z8kygmlMeLk5G0jSGOjS4pw65Tp8+dFzvvQzlalZ/hVoEc0WJqCwTey17TI/krTqmaU0RIhT91iRlTQIpeZw5/XsFJbdoMNMH4rjVxMPHxELNBj9zU7FvbYKo301QD/TtrKQTjfmzHxxjPRa75XHsVh233hU0kZQw3aqaDcnJVaAYerRzgUbQRXo/DZTJHjfOOKqyOKhbeuCVxoMFm0+Tjt/RvFIgIhSeuAwFT+tUmTxQ7lIa7mruPxymhHmkvG5ih0EWBawwuaiLEe7Yu4/29QD+XrVlUceIfnwdd63RUp2LiDrcfcH4EcCG4gn69Cz/lP/6koYOpf6PzxXm8E9lnoiBWffZq+M6nXY43B9T2vw1zShihm52aKsGGh4ICJinSVdzxIVb5gbuuHwghUiUDg==\"/>\n<input name=\"vc\" type=\"hidden\" value=\"dcfd76d2709ecb79c194fff10a441d88\"/>\n<noscript class=\"cf-captcha-info\" id=\"cf-captcha-bookmark\">\n<h1 data-translate=\"turn_on_js\" style=\"color:#bd2426;\">Please turn JavaScript on and reload the page.</h1>\n</noscript>\n<div class=\"cookie-warning\" data-translate=\"turn_on_cookies\" id=\"no-cookie-warning\" style=\"display:none\">\n<p data-translate=\"turn_on_cookies\" style=\"color:#bd2426;\">Please enable Cookies and reload the page.</p>\n</div>\n<script>\n  //<![CDATA[\n    var a = function() {try{return !!window.addEventListener} catch(e) {return !1} },\n      b = function(b, c) {a() ? document.addEventListener(\"DOMContentLoaded\", b, c) : document.attachEvent(\"onreadystatechange\", b)};\n      b(function(){\n        var cookiesEnabled=(navigator.cookieEnabled)? true : false;\n        if(!cookiesEnabled){\n          var q = document.getElementById('no-cookie-warning');q.style.display = 'block';\n        }\n      });\n  //]]>\n  </script>\n<div id=\"trk_captcha_js\" style=\"background-image:url('/cdn-cgi/images/trace/captcha/nojs/h/transparent.gif?ray=722c2ea05e74d3e7')\"></div>\n</form>\n<script>\n    //<![CDATA[\n    (function(){\n        var isIE = /(MSIE|Trident\\/|Edge\\/)/i.test(window.navigator.userAgent);\n        var trkjs = isIE ? new Image() : document.createElement('img');\n        trkjs.setAttribute(\"src\", \"/cdn-cgi/images/trace/managed/js/transparent.gif?ray=722c2ea05e74d3e7\");\n        trkjs.id = \"trk_managed_js\";\n        trkjs.setAttribute(\"alt\", \"\");\n        document.body.appendChild(trkjs);\n        var cpo=document.createElement('script');\n        cpo.type='text/javascript';\n        cpo.src=\"/cdn-cgi/challenge-platform/h/b/orchestrate/managed/v1?ray=722c2ea05e74d3e7\";\n        \n        window._cf_chl_opt.cOgUHash = location.hash === '' && location.href.indexOf('#') !== -1 ? '#' : location.hash;\n        window._cf_chl_opt.cOgUQuery = location.search === '' && location.href.slice(0, -window._cf_chl_opt.cOgUHash.length).indexOf('?') !== -1 ? '?' : location.search;\n        if (window._cf_chl_opt.cUPMDTk && window.history && window.history.replaceState) {\n          var ogU = location.pathname + window._cf_chl_opt.cOgUQuery + window._cf_chl_opt.cOgUHash;\n          history.replaceState(null, null, \"\\/valorant\\/leaderboards\\/ranked\\/all\\/default?page=1&region=global&__cf_chl_rt_tk=e2O3nmpWzyZs_lsAx_E5_uHCT5bARVGUw3O6T5_Fnns-1656479703-0-gaNycGzNBz0\" + window._cf_chl_opt.cOgUHash);\n          cpo.onload = function() {\n            history.replaceState(null, null, ogU);\n          };\n        }\n        \n        document.getElementsByTagName('head')[0].appendChild(cpo);\n    }());\n    //]]>\n    </script>\n</div>\n</div>\n<div class=\"cf-column\">\n<div class=\"cf-screenshot-container\">\n<span class=\"cf-no-screenshot\"></span>\n</div>\n</div>\n</div>\n</div>\n</div>\n<div class=\"cf-section cf-wrapper\">\n<div class=\"cf-columns two\">\n<div class=\"cf-column\">\n<h2 data-translate=\"why_captcha_headline\">Why do I have to complete a CAPTCHA?</h2>\n<p data-translate=\"why_captcha_detail\">Completing the CAPTCHA proves you are a human and gives you temporary access to the web property.</p>\n</div>\n<div class=\"cf-column\">\n<h2 data-translate=\"resolve_captcha_headline\">What can I do to prevent this in the future?</h2>\n<p data-translate=\"resolve_captcha_antivirus\">If you are on a personal connection, like at home, you can run an anti-virus scan on your device to make sure it is not infected with malware.</p>\n<p data-translate=\"resolve_captcha_network\">If you are at an office or shared network, you can ask the network administrator to run a scan across the network looking for misconfigured or infected devices.</p>\n</div>\n</div>\n</div>\n<div class=\"cf-error-footer cf-wrapper w-240 lg:w-full py-10 sm:py-4 sm:px-8 mx-auto text-center sm:text-left border-solid border-0 border-t border-gray-300\">\n<p class=\"text-13\">\n<span class=\"cf-footer-item sm:block sm:mb-1\">Cloudflare Ray ID: <strong class=\"font-semibold\">722c2ea05e74d3e7</strong></span>\n<span class=\"cf-footer-separator sm:hidden\">•</span>\n<span class=\"cf-footer-item sm:block sm:mb-1\"><span>Your IP</span>: 103.255.6.78</span>\n<span class=\"cf-footer-separator sm:hidden\">•</span>\n<span class=\"cf-footer-item sm:block sm:mb-1\"><span>Performance &amp; security by</span> <a href=\"https://www.cloudflare.com/5xx-error-landing\" id=\"brand_link\" rel=\"noopener noreferrer\" target=\"_blank\">Cloudflare</a></span>\n</p>\n</div><!-- /.error-footer -->\n</div>\n</div>\n<script>\n  window._cf_translation = {};\n  \n  \n</script>\n</body>\n</html>"
     },
     "execution_count": 363,
     "metadata": {},
     "output_type": "execute_result"
    }
   ],
   "source": [
    "main_page_soup = BeautifulSoup(main_page.content, 'html.parser')\n",
    "main_page_soup"
   ],
   "metadata": {
    "collapsed": false,
    "pycharm": {
     "name": "#%%\n"
    }
   }
  },
  {
   "cell_type": "code",
   "execution_count": 358,
   "outputs": [],
   "source": [
    "leaderboard_table = main_page_soup.find(\"table\", {\"class\": \"trn-table\"})\n",
    "leaderboard_table"
   ],
   "metadata": {
    "collapsed": false,
    "pycharm": {
     "name": "#%%\n"
    }
   }
  },
  {
   "cell_type": "code",
   "execution_count": 359,
   "outputs": [
    {
     "ename": "AttributeError",
     "evalue": "'NoneType' object has no attribute 'find'",
     "output_type": "error",
     "traceback": [
      "\u001B[1;31m---------------------------------------------------------------------------\u001B[0m",
      "\u001B[1;31mAttributeError\u001B[0m                            Traceback (most recent call last)",
      "Input \u001B[1;32mIn [359]\u001B[0m, in \u001B[0;36m<cell line: 1>\u001B[1;34m()\u001B[0m\n\u001B[1;32m----> 1\u001B[0m leaderboard_entries \u001B[38;5;241m=\u001B[39m \u001B[43mleaderboard_table\u001B[49m\u001B[38;5;241;43m.\u001B[39;49m\u001B[43mfind\u001B[49m(\u001B[38;5;124m\"\u001B[39m\u001B[38;5;124mtbody\u001B[39m\u001B[38;5;124m\"\u001B[39m)\n",
      "\u001B[1;31mAttributeError\u001B[0m: 'NoneType' object has no attribute 'find'"
     ]
    }
   ],
   "source": [
    "leaderboard_entries = leaderboard_table.find(\"tbody\")"
   ],
   "metadata": {
    "collapsed": false,
    "pycharm": {
     "name": "#%%\n"
    }
   }
  },
  {
   "cell_type": "code",
   "execution_count": 342,
   "outputs": [],
   "source": [
    "player_list = leaderboard_entries.find_all(\"td\", {\"class\": \"username\"})"
   ],
   "metadata": {
    "collapsed": false,
    "pycharm": {
     "name": "#%%\n"
    }
   }
  },
  {
   "cell_type": "code",
   "execution_count": null,
   "outputs": [],
   "source": [
    "player_names = []\n",
    "for player in player_list:\n",
    "    player_names.append(player.find(\"span\", {\"class\": \"trn-ign__username\"}).text.strip())"
   ],
   "metadata": {
    "collapsed": false,
    "pycharm": {
     "name": "#%%\n"
    }
   }
  },
  {
   "cell_type": "code",
   "execution_count": null,
   "outputs": [],
   "source": [
    "player_profile_links = []\n",
    "for player in player_list:\n",
    "    a_tag = player.find(\"a\")\n",
    "    link = \"https://tracker.gg\" + a_tag.get('href') + \"/overview?season=all\"\n",
    "    player_profile_links.append(link)"
   ],
   "metadata": {
    "collapsed": false,
    "pycharm": {
     "name": "#%%\n"
    }
   }
  },
  {
   "cell_type": "code",
   "execution_count": null,
   "outputs": [],
   "source": [
    "player_profile_links"
   ],
   "metadata": {
    "collapsed": false,
    "pycharm": {
     "name": "#%%\n"
    }
   }
  },
  {
   "cell_type": "code",
   "execution_count": null,
   "outputs": [],
   "source": [
    "player_profile_page = requests.get(player_profile_links[0])"
   ],
   "metadata": {
    "collapsed": false,
    "pycharm": {
     "name": "#%%\n"
    }
   }
  },
  {
   "cell_type": "code",
   "execution_count": null,
   "outputs": [],
   "source": [
    "player_profile_page_soup = BeautifulSoup(player_profile_page.content, 'html.parser')"
   ],
   "metadata": {
    "collapsed": false,
    "pycharm": {
     "name": "#%%\n"
    }
   }
  },
  {
   "cell_type": "code",
   "execution_count": null,
   "outputs": [],
   "source": [
    "top_agents = player_profile_page_soup.find_all(\"div\", {\"class\": \"info\"})"
   ],
   "metadata": {
    "collapsed": false,
    "pycharm": {
     "name": "#%%\n"
    }
   }
  },
  {
   "cell_type": "code",
   "execution_count": null,
   "outputs": [],
   "source": [
    "top_agents_list = []\n",
    "for agent in top_agents:\n",
    "    if agent.text.strip() in list_of_agents:\n",
    "        top_agents_list.append(agent.text.strip())"
   ],
   "metadata": {
    "collapsed": false,
    "pycharm": {
     "name": "#%%\n"
    }
   }
  },
  {
   "cell_type": "code",
   "execution_count": null,
   "outputs": [],
   "source": [
    "top_weapons = player_profile_page_soup.find_all(\"div\", {\"class\": \"weapon__name\"})"
   ],
   "metadata": {
    "collapsed": false,
    "pycharm": {
     "name": "#%%\n"
    }
   }
  },
  {
   "cell_type": "code",
   "execution_count": null,
   "outputs": [],
   "source": [
    "top_weapons_list = []\n",
    "for weapon in top_weapons:\n",
    "    top_weapons_list.append(weapon.text.strip())"
   ],
   "metadata": {
    "collapsed": false,
    "pycharm": {
     "name": "#%%\n"
    }
   }
  },
  {
   "cell_type": "code",
   "execution_count": null,
   "outputs": [],
   "source": [
    "top_maps_link = player_profile_page_soup.find(\"a\", {\"class\": \"trn-button trn-button--block\"})"
   ],
   "metadata": {
    "collapsed": false,
    "pycharm": {
     "name": "#%%\n"
    }
   }
  },
  {
   "cell_type": "code",
   "execution_count": null,
   "outputs": [],
   "source": [
    "player_maps_link = \"https://tracker.gg\" + top_maps_link.get('href')"
   ],
   "metadata": {
    "collapsed": false,
    "pycharm": {
     "name": "#%%\n"
    }
   }
  },
  {
   "cell_type": "code",
   "execution_count": null,
   "outputs": [],
   "source": [
    "player_maps_page = requests.get(player_maps_link)"
   ],
   "metadata": {
    "collapsed": false,
    "pycharm": {
     "name": "#%%\n"
    }
   }
  },
  {
   "cell_type": "code",
   "execution_count": null,
   "outputs": [],
   "source": [
    "player_maps_page_soup = BeautifulSoup(player_maps_page.content, 'html.parser')"
   ],
   "metadata": {
    "collapsed": false,
    "pycharm": {
     "name": "#%%\n"
    }
   }
  },
  {
   "cell_type": "code",
   "execution_count": null,
   "outputs": [],
   "source": [
    "players_maps = player_maps_page_soup.find_all('div', {\"class\": \"info\"})\n",
    "players_maps"
   ],
   "metadata": {
    "collapsed": false,
    "pycharm": {
     "name": "#%%\n"
    }
   }
  },
  {
   "cell_type": "code",
   "execution_count": null,
   "outputs": [],
   "source": [
    "all_maps_list = []\n",
    "for map in players_maps:\n",
    "    if map.text.strip() in list_of_maps:\n",
    "        all_maps_list.append(map.text.strip())"
   ],
   "metadata": {
    "collapsed": false,
    "pycharm": {
     "name": "#%%\n"
    }
   }
  },
  {
   "cell_type": "code",
   "execution_count": null,
   "outputs": [],
   "source": [
    "top_three_player_maps = all_maps_list[0:3]\n",
    "worst_player_map = all_maps_list[-1]"
   ],
   "metadata": {
    "collapsed": false,
    "pycharm": {
     "name": "#%%\n"
    }
   }
  },
  {
   "cell_type": "code",
   "execution_count": 354,
   "outputs": [
    {
     "ename": "IndexError",
     "evalue": "list index out of range",
     "output_type": "error",
     "traceback": [
      "\u001B[1;31m---------------------------------------------------------------------------\u001B[0m",
      "\u001B[1;31mIndexError\u001B[0m                                Traceback (most recent call last)",
      "Input \u001B[1;32mIn [354]\u001B[0m, in \u001B[0;36m<cell line: 2>\u001B[1;34m()\u001B[0m\n\u001B[0;32m      1\u001B[0m player_headline_stats \u001B[38;5;241m=\u001B[39m player_profile_page_soup\u001B[38;5;241m.\u001B[39mfind_all(\u001B[38;5;124m\"\u001B[39m\u001B[38;5;124mdiv\u001B[39m\u001B[38;5;124m\"\u001B[39m, {\u001B[38;5;124m\"\u001B[39m\u001B[38;5;124mclass\u001B[39m\u001B[38;5;124m\"\u001B[39m: \u001B[38;5;124m\"\u001B[39m\u001B[38;5;124mnumbers\u001B[39m\u001B[38;5;124m\"\u001B[39m})\n\u001B[1;32m----> 2\u001B[0m k_d_ratio \u001B[38;5;241m=\u001B[39m \u001B[43mplayer_headline_stats\u001B[49m\u001B[43m[\u001B[49m\u001B[38;5;241;43m1\u001B[39;49m\u001B[43m]\u001B[49m\u001B[38;5;241m.\u001B[39mfind_all(\u001B[38;5;124m\"\u001B[39m\u001B[38;5;124mspan\u001B[39m\u001B[38;5;124m\"\u001B[39m)[\u001B[38;5;241m1\u001B[39m]\u001B[38;5;241m.\u001B[39mtext\n\u001B[0;32m      3\u001B[0m headshot_percent \u001B[38;5;241m=\u001B[39m player_headline_stats[\u001B[38;5;241m2\u001B[39m]\u001B[38;5;241m.\u001B[39mfind_all(\u001B[38;5;124m\"\u001B[39m\u001B[38;5;124mspan\u001B[39m\u001B[38;5;124m\"\u001B[39m)[\u001B[38;5;241m1\u001B[39m]\u001B[38;5;241m.\u001B[39mtext\n",
      "\u001B[1;31mIndexError\u001B[0m: list index out of range"
     ]
    }
   ],
   "source": [
    "player_headline_stats = player_profile_page_soup.find_all(\"div\", {\"class\": \"numbers\"})\n",
    "k_d_ratio = player_headline_stats[1].find_all(\"span\")[1].text\n",
    "headshot_percent = player_headline_stats[2].find_all(\"span\")[1].text"
   ],
   "metadata": {
    "collapsed": false,
    "pycharm": {
     "name": "#%%\n"
    }
   }
  },
  {
   "cell_type": "code",
   "execution_count": 333,
   "outputs": [
    {
     "data": {
      "text/plain": "[]"
     },
     "execution_count": 333,
     "metadata": {},
     "output_type": "execute_result"
    }
   ],
   "source": [
    "matches_played = player_profile_page_soup.find_all('div', {\"class\": \"title-stats\"})\n",
    "matches_played"
   ],
   "metadata": {
    "collapsed": false,
    "pycharm": {
     "name": "#%%\n"
    }
   }
  },
  {
   "cell_type": "markdown",
   "source": [
    "# LOOPING OVER ONE LEADERBOARD PAGE CONTAINING A 100 PLAYERS"
   ],
   "metadata": {
    "collapsed": false,
    "pycharm": {
     "name": "#%% md\n"
    }
   }
  },
  {
   "cell_type": "code",
   "execution_count": null,
   "outputs": [],
   "source": [
    "from bs4 import BeautifulSoup\n",
    "import pandas as pd\n",
    "import requests"
   ],
   "metadata": {
    "collapsed": false,
    "pycharm": {
     "name": "#%%\n"
    }
   }
  },
  {
   "cell_type": "code",
   "execution_count": null,
   "outputs": [],
   "source": [
    "def update_final_lists(agents, weapons, best_maps, worst_map):\n",
    "    top_agents_list_final.append(agents)\n",
    "    top_weapons_list_final.append(weapons)\n",
    "    top_three_player_maps_final.append(best_maps)\n",
    "    worst_player_map_final.append(worst_map)"
   ],
   "metadata": {
    "collapsed": false,
    "pycharm": {
     "name": "#%%\n"
    }
   }
  },
  {
   "cell_type": "code",
   "execution_count": null,
   "outputs": [],
   "source": [
    "list_of_agents = ['Astra', 'Breach', 'Brimstone', 'Chamber', 'Cypher', 'Jett', 'Fade', 'KAY/O', 'Killjoy', 'Neon', 'Omen', 'Phoenix', 'Raze', 'Reyna', 'Sage', 'Skye', 'Sova', 'Viper', 'Yoru']\n",
    "list_of_maps = ['Haven', 'Icebox', 'Breeze', 'Fracture', 'Ascent', 'Bind', 'Split', 'Pearl']"
   ],
   "metadata": {
    "collapsed": false,
    "pycharm": {
     "name": "#%%\n"
    }
   }
  },
  {
   "cell_type": "code",
   "execution_count": null,
   "outputs": [],
   "source": [
    "main_page = requests.get(\"https://tracker.gg/valorant/leaderboards/ranked/all/default?page=1&region=global\")\n",
    "\n",
    "main_page_soup = BeautifulSoup(main_page.content, 'html.parser')\n",
    "\n",
    "leaderboard_table = main_page_soup.find(\"table\", {\"class\": \"trn-table\"})\n",
    "\n",
    "leaderboard_entries = leaderboard_table.find(\"tbody\")\n",
    "\n",
    "player_list = leaderboard_entries.find_all(\"td\", {\"class\": \"username\"})"
   ],
   "metadata": {
    "collapsed": false,
    "pycharm": {
     "name": "#%%\n"
    }
   }
  },
  {
   "cell_type": "code",
   "execution_count": null,
   "outputs": [],
   "source": [
    "player_names = []\n",
    "for player in player_list:\n",
    "    player_names.append(player.find(\"span\", {\"class\": \"trn-ign__username\"}).text.strip())"
   ],
   "metadata": {
    "collapsed": false,
    "pycharm": {
     "name": "#%%\n"
    }
   }
  },
  {
   "cell_type": "code",
   "execution_count": null,
   "outputs": [],
   "source": [
    "player_profile_links = []\n",
    "for player in player_list:\n",
    "    a_tag = player.find(\"a\")\n",
    "    link = \"https://tracker.gg\" + a_tag.get('href') + \"/overview?season=all\"\n",
    "    player_profile_links.append(link)"
   ],
   "metadata": {
    "collapsed": false,
    "pycharm": {
     "name": "#%%\n"
    }
   }
  },
  {
   "cell_type": "code",
   "execution_count": null,
   "outputs": [],
   "source": [
    "top_agents_list_final = []\n",
    "top_weapons_list_final = []\n",
    "top_three_player_maps_final = []\n",
    "worst_player_map_final = []\n",
    "rerun_iteration = True\n",
    "for i, player_profile_link in enumerate(player_profile_links):\n",
    "    rerun_iteration = True\n",
    "    top_agents_list = []\n",
    "    top_weapons_list = []\n",
    "    top_three_player_maps = []\n",
    "    worst_player_map = []\n",
    "    while rerun_iteration:\n",
    "        try:\n",
    "            print(\"Gathering data for player\", player_profile_link)\n",
    "            player_profile_page = requests.get(player_profile_link)\n",
    "\n",
    "            player_profile_page_soup = BeautifulSoup(player_profile_page.content, 'html.parser')\n",
    "\n",
    "            top_agents = player_profile_page_soup.find_all(\"div\", {\"class\": \"info\"})\n",
    "\n",
    "            for agent in top_agents:\n",
    "                if agent.text.strip() in list_of_agents:\n",
    "                    top_agents_list.append(agent.text.strip())\n",
    "\n",
    "            top_weapons = player_profile_page_soup.find_all(\"div\", {\"class\": \"weapon__name\"})\n",
    "\n",
    "            for weapon in top_weapons:\n",
    "                top_weapons_list.append(weapon.text.strip())\n",
    "\n",
    "            top_maps_link = player_profile_page_soup.find(\"a\", {\"class\": \"trn-button trn-button--block\"})\n",
    "\n",
    "            player_maps_link = \"https://tracker.gg\" + top_maps_link.get('href')\n",
    "\n",
    "            player_maps_page = requests.get(player_maps_link)\n",
    "\n",
    "            player_maps_page_soup = BeautifulSoup(player_maps_page.content, 'html.parser')\n",
    "\n",
    "            players_maps = player_maps_page_soup.find_all('div', {\"class\": \"info\"})\n",
    "\n",
    "            all_maps_list = []\n",
    "            for map in players_maps:\n",
    "                if map.text.strip() in list_of_maps:\n",
    "                    all_maps_list.append(map.text.strip())\n",
    "\n",
    "            top_three_player_maps = (all_maps_list[0:3])\n",
    "            worst_player_map = (all_maps_list[-1])\n",
    "            update_final_lists(top_agents_list, top_weapons_list, top_three_player_maps, worst_player_map)\n",
    "            rerun_iteration = False\n",
    "        except:\n",
    "            print(\"Error occurred. Retrying...\")\n",
    "            top_agents_list = []\n",
    "            top_weapons_list = []\n",
    "            top_three_player_maps = []\n",
    "            worst_player_map = []\n",
    "            rerun_iteration = True"
   ],
   "metadata": {
    "collapsed": false,
    "pycharm": {
     "name": "#%%\n"
    }
   }
  },
  {
   "cell_type": "code",
   "execution_count": null,
   "outputs": [],
   "source": [
    "top_agents_list_final = np.array(top_agents_list_final)\n",
    "top_weapons_list_final = np.array(top_weapons_list_final)\n",
    "top_three_player_maps_final = np.array(top_three_player_maps_final)\n",
    "worst_player_map_final = np.array(worst_player_map_final)"
   ],
   "metadata": {
    "collapsed": false,
    "pycharm": {
     "name": "#%%\n"
    }
   }
  },
  {
   "cell_type": "code",
   "execution_count": 296,
   "outputs": [],
   "source": [
    "final_data_frame = pd.DataFrame()"
   ],
   "metadata": {
    "collapsed": false,
    "pycharm": {
     "name": "#%%\n"
    }
   }
  },
  {
   "cell_type": "code",
   "execution_count": 297,
   "outputs": [],
   "source": [
    "final_data_frame['playerName'] = player_names"
   ],
   "metadata": {
    "collapsed": false,
    "pycharm": {
     "name": "#%%\n"
    }
   }
  },
  {
   "cell_type": "code",
   "execution_count": 300,
   "outputs": [],
   "source": [
    "final_data_frame['firstAgent'] = top_agents_list_final[:, 0]\n",
    "final_data_frame['secondAgent'] = top_agents_list_final[:, 1]\n",
    "final_data_frame['thirdAgent'] = top_agents_list_final[:, 2]"
   ],
   "metadata": {
    "collapsed": false,
    "pycharm": {
     "name": "#%%\n"
    }
   }
  },
  {
   "cell_type": "code",
   "execution_count": 302,
   "outputs": [],
   "source": [
    "final_data_frame['firstWeapon'] = top_weapons_list_final[:, 0]\n",
    "final_data_frame['secondWeapon'] = top_weapons_list_final[:, 1]\n",
    "final_data_frame['thirdWeapon'] = top_weapons_list_final[:, 2]"
   ],
   "metadata": {
    "collapsed": false,
    "pycharm": {
     "name": "#%%\n"
    }
   }
  },
  {
   "cell_type": "code",
   "execution_count": 303,
   "outputs": [],
   "source": [
    "final_data_frame['bestMap'] = top_three_player_maps_final[:, 0]\n",
    "final_data_frame['secondBestMap'] = top_three_player_maps_final[:, 1]\n",
    "final_data_frame['thirdBestMap'] = top_three_player_maps_final[:, 2]"
   ],
   "metadata": {
    "collapsed": false,
    "pycharm": {
     "name": "#%%\n"
    }
   }
  },
  {
   "cell_type": "code",
   "execution_count": 304,
   "outputs": [],
   "source": [
    "final_data_frame['worstMap'] = worst_player_map_final"
   ],
   "metadata": {
    "collapsed": false,
    "pycharm": {
     "name": "#%%\n"
    }
   }
  },
  {
   "cell_type": "code",
   "execution_count": 305,
   "outputs": [
    {
     "data": {
      "text/plain": "        playerName firstAgent secondAgent thirdAgent firstWeapon secondWeapon  \\\n0      RIG Foxy9KR       Jett       Reyna       Raze      Vandal      Phantom   \n1      SEN ShahZaM       Jett        Sova      Reyna    Operator       Vandal   \n2         Flexible       Jett       Reyna     Cypher      Vandal      Sheriff   \n3             Tuna       Sage       Reyna       Omen      Vandal      Phantom   \n4      TSM Subroza       Skye        Jett    Phoenix     Phantom       Vandal   \n..             ...        ...         ...        ...         ...          ...   \n95         Maiafds       Sage       Reyna    Killjoy      Vandal      Phantom   \n96          caioba       Raze        Sova      Reyna      Vandal      Phantom   \n97            Thom       Jett        Raze       Sova      Vandal      Phantom   \n98          BAYDIR    Chamber        Omen       Sage      Vandal     Guardian   \n99  FPX DeadlyWill      Reyna      Breach       Jett      Vandal      Phantom   \n\n   thirdWeapon   bestMap secondBestMap thirdBestMap  worstMap  \n0     Operator    Icebox        Ascent        Haven  Fracture  \n1      Phantom      Bind        Icebox        Split    Ascent  \n2     Operator    Breeze      Fracture       Ascent     Haven  \n3      Spectre  Fracture        Ascent         Bind    Icebox  \n4      Sheriff  Fracture          Bind        Haven     Split  \n..         ...       ...           ...          ...       ...  \n95     Spectre     Split        Breeze     Fracture     Haven  \n96     Spectre    Icebox         Haven     Fracture    Breeze  \n97    Operator     Split        Ascent         Bind  Fracture  \n98       Ghost  Fracture         Haven        Split    Icebox  \n99       Ghost     Split        Icebox       Breeze     Haven  \n\n[100 rows x 11 columns]",
      "text/html": "<div>\n<style scoped>\n    .dataframe tbody tr th:only-of-type {\n        vertical-align: middle;\n    }\n\n    .dataframe tbody tr th {\n        vertical-align: top;\n    }\n\n    .dataframe thead th {\n        text-align: right;\n    }\n</style>\n<table border=\"1\" class=\"dataframe\">\n  <thead>\n    <tr style=\"text-align: right;\">\n      <th></th>\n      <th>playerName</th>\n      <th>firstAgent</th>\n      <th>secondAgent</th>\n      <th>thirdAgent</th>\n      <th>firstWeapon</th>\n      <th>secondWeapon</th>\n      <th>thirdWeapon</th>\n      <th>bestMap</th>\n      <th>secondBestMap</th>\n      <th>thirdBestMap</th>\n      <th>worstMap</th>\n    </tr>\n  </thead>\n  <tbody>\n    <tr>\n      <th>0</th>\n      <td>RIG Foxy9KR</td>\n      <td>Jett</td>\n      <td>Reyna</td>\n      <td>Raze</td>\n      <td>Vandal</td>\n      <td>Phantom</td>\n      <td>Operator</td>\n      <td>Icebox</td>\n      <td>Ascent</td>\n      <td>Haven</td>\n      <td>Fracture</td>\n    </tr>\n    <tr>\n      <th>1</th>\n      <td>SEN ShahZaM</td>\n      <td>Jett</td>\n      <td>Sova</td>\n      <td>Reyna</td>\n      <td>Operator</td>\n      <td>Vandal</td>\n      <td>Phantom</td>\n      <td>Bind</td>\n      <td>Icebox</td>\n      <td>Split</td>\n      <td>Ascent</td>\n    </tr>\n    <tr>\n      <th>2</th>\n      <td>Flexible</td>\n      <td>Jett</td>\n      <td>Reyna</td>\n      <td>Cypher</td>\n      <td>Vandal</td>\n      <td>Sheriff</td>\n      <td>Operator</td>\n      <td>Breeze</td>\n      <td>Fracture</td>\n      <td>Ascent</td>\n      <td>Haven</td>\n    </tr>\n    <tr>\n      <th>3</th>\n      <td>Tuna</td>\n      <td>Sage</td>\n      <td>Reyna</td>\n      <td>Omen</td>\n      <td>Vandal</td>\n      <td>Phantom</td>\n      <td>Spectre</td>\n      <td>Fracture</td>\n      <td>Ascent</td>\n      <td>Bind</td>\n      <td>Icebox</td>\n    </tr>\n    <tr>\n      <th>4</th>\n      <td>TSM Subroza</td>\n      <td>Skye</td>\n      <td>Jett</td>\n      <td>Phoenix</td>\n      <td>Phantom</td>\n      <td>Vandal</td>\n      <td>Sheriff</td>\n      <td>Fracture</td>\n      <td>Bind</td>\n      <td>Haven</td>\n      <td>Split</td>\n    </tr>\n    <tr>\n      <th>...</th>\n      <td>...</td>\n      <td>...</td>\n      <td>...</td>\n      <td>...</td>\n      <td>...</td>\n      <td>...</td>\n      <td>...</td>\n      <td>...</td>\n      <td>...</td>\n      <td>...</td>\n      <td>...</td>\n    </tr>\n    <tr>\n      <th>95</th>\n      <td>Maiafds</td>\n      <td>Sage</td>\n      <td>Reyna</td>\n      <td>Killjoy</td>\n      <td>Vandal</td>\n      <td>Phantom</td>\n      <td>Spectre</td>\n      <td>Split</td>\n      <td>Breeze</td>\n      <td>Fracture</td>\n      <td>Haven</td>\n    </tr>\n    <tr>\n      <th>96</th>\n      <td>caioba</td>\n      <td>Raze</td>\n      <td>Sova</td>\n      <td>Reyna</td>\n      <td>Vandal</td>\n      <td>Phantom</td>\n      <td>Spectre</td>\n      <td>Icebox</td>\n      <td>Haven</td>\n      <td>Fracture</td>\n      <td>Breeze</td>\n    </tr>\n    <tr>\n      <th>97</th>\n      <td>Thom</td>\n      <td>Jett</td>\n      <td>Raze</td>\n      <td>Sova</td>\n      <td>Vandal</td>\n      <td>Phantom</td>\n      <td>Operator</td>\n      <td>Split</td>\n      <td>Ascent</td>\n      <td>Bind</td>\n      <td>Fracture</td>\n    </tr>\n    <tr>\n      <th>98</th>\n      <td>BAYDIR</td>\n      <td>Chamber</td>\n      <td>Omen</td>\n      <td>Sage</td>\n      <td>Vandal</td>\n      <td>Guardian</td>\n      <td>Ghost</td>\n      <td>Fracture</td>\n      <td>Haven</td>\n      <td>Split</td>\n      <td>Icebox</td>\n    </tr>\n    <tr>\n      <th>99</th>\n      <td>FPX DeadlyWill</td>\n      <td>Reyna</td>\n      <td>Breach</td>\n      <td>Jett</td>\n      <td>Vandal</td>\n      <td>Phantom</td>\n      <td>Ghost</td>\n      <td>Split</td>\n      <td>Icebox</td>\n      <td>Breeze</td>\n      <td>Haven</td>\n    </tr>\n  </tbody>\n</table>\n<p>100 rows × 11 columns</p>\n</div>"
     },
     "execution_count": 305,
     "metadata": {},
     "output_type": "execute_result"
    }
   ],
   "source": [
    "final_data_frame"
   ],
   "metadata": {
    "collapsed": false,
    "pycharm": {
     "name": "#%%\n"
    }
   }
  },
  {
   "cell_type": "code",
   "execution_count": 306,
   "outputs": [],
   "source": [
    "final_data_frame.to_csv(\"Valorant-Data-Analysis.csv\", index=False)"
   ],
   "metadata": {
    "collapsed": false,
    "pycharm": {
     "name": "#%%\n"
    }
   }
  },
  {
   "cell_type": "markdown",
   "source": [
    "# LOOPING OVER THE WHOLE LEADERBOARD CONTAINING 2000+ PLAYERS"
   ],
   "metadata": {
    "collapsed": false,
    "pycharm": {
     "name": "#%% md\n"
    }
   }
  },
  {
   "cell_type": "code",
   "execution_count": null,
   "outputs": [],
   "source": [],
   "metadata": {
    "collapsed": false,
    "pycharm": {
     "name": "#%%\n"
    }
   }
  }
 ],
 "metadata": {
  "kernelspec": {
   "display_name": "Python 3",
   "language": "python",
   "name": "python3"
  },
  "language_info": {
   "codemirror_mode": {
    "name": "ipython",
    "version": 2
   },
   "file_extension": ".py",
   "mimetype": "text/x-python",
   "name": "python",
   "nbconvert_exporter": "python",
   "pygments_lexer": "ipython2",
   "version": "2.7.6"
  }
 },
 "nbformat": 4,
 "nbformat_minor": 0
}